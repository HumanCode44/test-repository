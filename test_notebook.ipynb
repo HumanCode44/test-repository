{
  "nbformat": 4,
  "nbformat_minor": 0,
  "metadata": {
    "colab": {
      "provenance": [],
      "authorship_tag": "ABX9TyOal/OLRIwYpAI21PC+sHJh",
      "include_colab_link": true
    },
    "kernelspec": {
      "name": "python3",
      "display_name": "Python 3"
    },
    "language_info": {
      "name": "python"
    }
  },
  "cells": [
    {
      "cell_type": "markdown",
      "metadata": {
        "id": "view-in-github",
        "colab_type": "text"
      },
      "source": [
        "<a href=\"https://colab.research.google.com/github/HumanCode44/test-repository/blob/main/test_notebook.ipynb\" target=\"_parent\"><img src=\"https://colab.research.google.com/assets/colab-badge.svg\" alt=\"Open In Colab\"/></a>"
      ]
    },
    {
      "cell_type": "code",
      "execution_count": null,
      "metadata": {
        "id": "rka05-4_4RPA"
      },
      "outputs": [],
      "source": []
    },
    {
      "cell_type": "markdown",
      "source": [
        "This is an Addition to this notebook"
      ],
      "metadata": {
        "id": "-lmE9fXP5Td1"
      }
    },
    {
      "cell_type": "markdown",
      "source": [
        "This is a test notebook to show how tosave google colab notebooks to github"
      ],
      "metadata": {
        "id": "1Z87J62A4bKN"
      }
    }
  ]
}